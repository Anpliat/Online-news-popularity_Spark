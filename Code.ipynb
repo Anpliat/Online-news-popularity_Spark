{
 "cells": [
  {
   "cell_type": "markdown",
   "metadata": {},
   "source": [
    "# <center>Predicting Online News Popularity</center>"
   ]
  },
  {
   "cell_type": "markdown",
   "metadata": {},
   "source": [
    "# Preliminaries"
   ]
  },
  {
   "cell_type": "code",
   "execution_count": 1,
   "metadata": {},
   "outputs": [],
   "source": [
    "# import findspark\n",
    "# import pyspark\n",
    "\n",
    "# findspark.init()\n",
    "# findspark.find()   ## SPARK_HOME path"
   ]
  },
  {
   "cell_type": "code",
   "execution_count": 1,
   "metadata": {},
   "outputs": [],
   "source": [
    "import os\n",
    "import sys\n",
    "\n",
    "spark_path = 'C:\\\\...\\\\spark-2.4.5-bin-hadoop2.7'\n",
    "\n",
    "os.environ['SPARK_HOME'] = spark_path\n",
    "os.environ['HADOOP_HOME'] = spark_path\n",
    "\n",
    "sys.path.append(spark_path + \"/bin\")\n",
    "sys.path.append(spark_path + \"/python\")\n",
    "sys.path.append(spark_path + \"/python/pyspark/\")\n",
    "sys.path.append(spark_path + \"/python/lib\")\n",
    "sys.path.append(spark_path + \"/python/lib/pyspark.zip\")\n",
    "sys.path.append(spark_path + \"/python/lib/py4j-0.10.7-src.zip\")"
   ]
  },
  {
   "cell_type": "markdown",
   "metadata": {},
   "source": [
    "* Print environment variables."
   ]
  },
  {
   "cell_type": "code",
   "execution_count": null,
   "metadata": {},
   "outputs": [],
   "source": [
    "import os\n",
    "print(os.environ['SPARK_HOME'])\n",
    "print(os.environ['JAVA_HOME'])\n",
    "# print(os.environ['PATH'])\n",
    "# print(os.environ['PYSPARK_PYTHON'])"
   ]
  },
  {
   "cell_type": "markdown",
   "metadata": {},
   "source": [
    "* Before Spark 2.0 we had to create a SparkConf and SparkContext to interact with Spark.\n",
    "* Now we don't need to create SparkConf, SparkContext or SQLContext, as they’re encapsulated within the `SparkSession` function."
   ]
  },
  {
   "cell_type": "code",
   "execution_count": 3,
   "metadata": {},
   "outputs": [],
   "source": [
    "import pyspark   # only run after findspark.init()\n",
    "from pyspark.sql import SparkSession\n",
    "\n",
    "spark =  SparkSession.builder.appName(\"Spark_2nd\").getOrCreate()\n",
    "# spark.newSession()"
   ]
  },
  {
   "cell_type": "markdown",
   "metadata": {},
   "source": [
    "# Obtaining the Data\n",
    "\n",
    "* We will use the `Online News Popularity Data Set`, which are available at https://archive.ics.uci.edu/ml/datasets/Online+News+Popularity.\n",
    "\n",
    "  \n",
    "* Before reading the file we upload it in the same directory in Anaconda3 where we created this Python folder we work on.\n",
    "\n",
    "\n",
    "* Now we [*read*](https://spark.apache.org/docs/2.2.0/api/python/pyspark.sql.html) the data. We used the parameter 'inferSchema' in order to infer the input schema automatically from data. We will also used the first line as names of columns."
   ]
  },
  {
   "cell_type": "code",
   "execution_count": 4,
   "metadata": {},
   "outputs": [],
   "source": [
    "online_data = spark.read.option(\"inferSchema\", \"true\").option(\"header\", \"true\").csv(\"OnlineNewsPopularity.csv\")"
   ]
  },
  {
   "cell_type": "code",
   "execution_count": 5,
   "metadata": {},
   "outputs": [
    {
     "data": {
      "text/html": [
       "<div>\n",
       "<style scoped>\n",
       "    .dataframe tbody tr th:only-of-type {\n",
       "        vertical-align: middle;\n",
       "    }\n",
       "\n",
       "    .dataframe tbody tr th {\n",
       "        vertical-align: top;\n",
       "    }\n",
       "\n",
       "    .dataframe thead th {\n",
       "        text-align: right;\n",
       "    }\n",
       "</style>\n",
       "<table border=\"1\" class=\"dataframe\">\n",
       "  <thead>\n",
       "    <tr style=\"text-align: right;\">\n",
       "      <th></th>\n",
       "      <th>url</th>\n",
       "      <th>timedelta</th>\n",
       "      <th>n_tokens_title</th>\n",
       "      <th>n_tokens_content</th>\n",
       "      <th>n_unique_tokens</th>\n",
       "      <th>n_non_stop_words</th>\n",
       "      <th>n_non_stop_unique_tokens</th>\n",
       "      <th>num_hrefs</th>\n",
       "      <th>num_self_hrefs</th>\n",
       "      <th>num_imgs</th>\n",
       "      <th>num_videos</th>\n",
       "      <th>average_token_length</th>\n",
       "      <th>num_keywords</th>\n",
       "      <th>data_channel_is_lifestyle</th>\n",
       "      <th>data_channel_is_entertainment</th>\n",
       "      <th>data_channel_is_bus</th>\n",
       "      <th>data_channel_is_socmed</th>\n",
       "      <th>data_channel_is_tech</th>\n",
       "      <th>data_channel_is_world</th>\n",
       "      <th>kw_min_min</th>\n",
       "      <th>kw_max_min</th>\n",
       "      <th>kw_avg_min</th>\n",
       "      <th>kw_min_max</th>\n",
       "      <th>kw_max_max</th>\n",
       "      <th>kw_avg_max</th>\n",
       "      <th>kw_min_avg</th>\n",
       "      <th>kw_max_avg</th>\n",
       "      <th>kw_avg_avg</th>\n",
       "      <th>self_reference_min_shares</th>\n",
       "      <th>self_reference_max_shares</th>\n",
       "      <th>self_reference_avg_sharess</th>\n",
       "      <th>weekday_is_monday</th>\n",
       "      <th>weekday_is_tuesday</th>\n",
       "      <th>weekday_is_wednesday</th>\n",
       "      <th>weekday_is_thursday</th>\n",
       "      <th>weekday_is_friday</th>\n",
       "      <th>weekday_is_saturday</th>\n",
       "      <th>weekday_is_sunday</th>\n",
       "      <th>is_weekend</th>\n",
       "      <th>LDA_00</th>\n",
       "      <th>LDA_01</th>\n",
       "      <th>LDA_02</th>\n",
       "      <th>LDA_03</th>\n",
       "      <th>LDA_04</th>\n",
       "      <th>global_subjectivity</th>\n",
       "      <th>global_sentiment_polarity</th>\n",
       "      <th>global_rate_positive_words</th>\n",
       "      <th>global_rate_negative_words</th>\n",
       "      <th>rate_positive_words</th>\n",
       "      <th>rate_negative_words</th>\n",
       "      <th>avg_positive_polarity</th>\n",
       "      <th>min_positive_polarity</th>\n",
       "      <th>max_positive_polarity</th>\n",
       "      <th>avg_negative_polarity</th>\n",
       "      <th>min_negative_polarity</th>\n",
       "      <th>max_negative_polarity</th>\n",
       "      <th>title_subjectivity</th>\n",
       "      <th>title_sentiment_polarity</th>\n",
       "      <th>abs_title_subjectivity</th>\n",
       "      <th>abs_title_sentiment_polarity</th>\n",
       "      <th>shares</th>\n",
       "    </tr>\n",
       "  </thead>\n",
       "  <tbody>\n",
       "    <tr>\n",
       "      <th>0</th>\n",
       "      <td>http://mashable.com/2013/01/07/amazon-instant-...</td>\n",
       "      <td>731.0</td>\n",
       "      <td>12.0</td>\n",
       "      <td>219.0</td>\n",
       "      <td>0.663594</td>\n",
       "      <td>1.0</td>\n",
       "      <td>0.815385</td>\n",
       "      <td>4.0</td>\n",
       "      <td>2.0</td>\n",
       "      <td>1.0</td>\n",
       "      <td>0.0</td>\n",
       "      <td>4.680365</td>\n",
       "      <td>5.0</td>\n",
       "      <td>0.0</td>\n",
       "      <td>1.0</td>\n",
       "      <td>0.0</td>\n",
       "      <td>0.0</td>\n",
       "      <td>0.0</td>\n",
       "      <td>0.0</td>\n",
       "      <td>0.0</td>\n",
       "      <td>0.0</td>\n",
       "      <td>0.0</td>\n",
       "      <td>0.0</td>\n",
       "      <td>0.0</td>\n",
       "      <td>0.0</td>\n",
       "      <td>0.0</td>\n",
       "      <td>0.0</td>\n",
       "      <td>0.0</td>\n",
       "      <td>496.0</td>\n",
       "      <td>496.0</td>\n",
       "      <td>496.0</td>\n",
       "      <td>1.0</td>\n",
       "      <td>0.0</td>\n",
       "      <td>0.0</td>\n",
       "      <td>0.0</td>\n",
       "      <td>0.0</td>\n",
       "      <td>0.0</td>\n",
       "      <td>0.0</td>\n",
       "      <td>0.0</td>\n",
       "      <td>0.500331</td>\n",
       "      <td>0.378279</td>\n",
       "      <td>0.040005</td>\n",
       "      <td>0.041263</td>\n",
       "      <td>0.040123</td>\n",
       "      <td>0.521617</td>\n",
       "      <td>0.092562</td>\n",
       "      <td>0.045662</td>\n",
       "      <td>0.013699</td>\n",
       "      <td>0.769231</td>\n",
       "      <td>0.230769</td>\n",
       "      <td>0.378636</td>\n",
       "      <td>0.100000</td>\n",
       "      <td>0.7</td>\n",
       "      <td>-0.350000</td>\n",
       "      <td>-0.600</td>\n",
       "      <td>-0.200000</td>\n",
       "      <td>0.5</td>\n",
       "      <td>-0.1875</td>\n",
       "      <td>0.0</td>\n",
       "      <td>0.1875</td>\n",
       "      <td>593.0</td>\n",
       "    </tr>\n",
       "    <tr>\n",
       "      <th>1</th>\n",
       "      <td>http://mashable.com/2013/01/07/ap-samsung-spon...</td>\n",
       "      <td>731.0</td>\n",
       "      <td>9.0</td>\n",
       "      <td>255.0</td>\n",
       "      <td>0.604743</td>\n",
       "      <td>1.0</td>\n",
       "      <td>0.791946</td>\n",
       "      <td>3.0</td>\n",
       "      <td>1.0</td>\n",
       "      <td>1.0</td>\n",
       "      <td>0.0</td>\n",
       "      <td>4.913725</td>\n",
       "      <td>4.0</td>\n",
       "      <td>0.0</td>\n",
       "      <td>0.0</td>\n",
       "      <td>1.0</td>\n",
       "      <td>0.0</td>\n",
       "      <td>0.0</td>\n",
       "      <td>0.0</td>\n",
       "      <td>0.0</td>\n",
       "      <td>0.0</td>\n",
       "      <td>0.0</td>\n",
       "      <td>0.0</td>\n",
       "      <td>0.0</td>\n",
       "      <td>0.0</td>\n",
       "      <td>0.0</td>\n",
       "      <td>0.0</td>\n",
       "      <td>0.0</td>\n",
       "      <td>0.0</td>\n",
       "      <td>0.0</td>\n",
       "      <td>0.0</td>\n",
       "      <td>1.0</td>\n",
       "      <td>0.0</td>\n",
       "      <td>0.0</td>\n",
       "      <td>0.0</td>\n",
       "      <td>0.0</td>\n",
       "      <td>0.0</td>\n",
       "      <td>0.0</td>\n",
       "      <td>0.0</td>\n",
       "      <td>0.799756</td>\n",
       "      <td>0.050047</td>\n",
       "      <td>0.050096</td>\n",
       "      <td>0.050101</td>\n",
       "      <td>0.050001</td>\n",
       "      <td>0.341246</td>\n",
       "      <td>0.148948</td>\n",
       "      <td>0.043137</td>\n",
       "      <td>0.015686</td>\n",
       "      <td>0.733333</td>\n",
       "      <td>0.266667</td>\n",
       "      <td>0.286915</td>\n",
       "      <td>0.033333</td>\n",
       "      <td>0.7</td>\n",
       "      <td>-0.118750</td>\n",
       "      <td>-0.125</td>\n",
       "      <td>-0.100000</td>\n",
       "      <td>0.0</td>\n",
       "      <td>0.0000</td>\n",
       "      <td>0.5</td>\n",
       "      <td>0.0000</td>\n",
       "      <td>711.0</td>\n",
       "    </tr>\n",
       "    <tr>\n",
       "      <th>2</th>\n",
       "      <td>http://mashable.com/2013/01/07/apple-40-billio...</td>\n",
       "      <td>731.0</td>\n",
       "      <td>9.0</td>\n",
       "      <td>211.0</td>\n",
       "      <td>0.575130</td>\n",
       "      <td>1.0</td>\n",
       "      <td>0.663866</td>\n",
       "      <td>3.0</td>\n",
       "      <td>1.0</td>\n",
       "      <td>1.0</td>\n",
       "      <td>0.0</td>\n",
       "      <td>4.393365</td>\n",
       "      <td>6.0</td>\n",
       "      <td>0.0</td>\n",
       "      <td>0.0</td>\n",
       "      <td>1.0</td>\n",
       "      <td>0.0</td>\n",
       "      <td>0.0</td>\n",
       "      <td>0.0</td>\n",
       "      <td>0.0</td>\n",
       "      <td>0.0</td>\n",
       "      <td>0.0</td>\n",
       "      <td>0.0</td>\n",
       "      <td>0.0</td>\n",
       "      <td>0.0</td>\n",
       "      <td>0.0</td>\n",
       "      <td>0.0</td>\n",
       "      <td>0.0</td>\n",
       "      <td>918.0</td>\n",
       "      <td>918.0</td>\n",
       "      <td>918.0</td>\n",
       "      <td>1.0</td>\n",
       "      <td>0.0</td>\n",
       "      <td>0.0</td>\n",
       "      <td>0.0</td>\n",
       "      <td>0.0</td>\n",
       "      <td>0.0</td>\n",
       "      <td>0.0</td>\n",
       "      <td>0.0</td>\n",
       "      <td>0.217792</td>\n",
       "      <td>0.033334</td>\n",
       "      <td>0.033351</td>\n",
       "      <td>0.033334</td>\n",
       "      <td>0.682188</td>\n",
       "      <td>0.702222</td>\n",
       "      <td>0.323333</td>\n",
       "      <td>0.056872</td>\n",
       "      <td>0.009479</td>\n",
       "      <td>0.857143</td>\n",
       "      <td>0.142857</td>\n",
       "      <td>0.495833</td>\n",
       "      <td>0.100000</td>\n",
       "      <td>1.0</td>\n",
       "      <td>-0.466667</td>\n",
       "      <td>-0.800</td>\n",
       "      <td>-0.133333</td>\n",
       "      <td>0.0</td>\n",
       "      <td>0.0000</td>\n",
       "      <td>0.5</td>\n",
       "      <td>0.0000</td>\n",
       "      <td>1500.0</td>\n",
       "    </tr>\n",
       "  </tbody>\n",
       "</table>\n",
       "</div>"
      ],
      "text/plain": [
       "                                                 url   timedelta  \\\n",
       "0  http://mashable.com/2013/01/07/amazon-instant-...       731.0   \n",
       "1  http://mashable.com/2013/01/07/ap-samsung-spon...       731.0   \n",
       "2  http://mashable.com/2013/01/07/apple-40-billio...       731.0   \n",
       "\n",
       "    n_tokens_title   n_tokens_content   n_unique_tokens   n_non_stop_words  \\\n",
       "0             12.0              219.0          0.663594                1.0   \n",
       "1              9.0              255.0          0.604743                1.0   \n",
       "2              9.0              211.0          0.575130                1.0   \n",
       "\n",
       "    n_non_stop_unique_tokens   num_hrefs   num_self_hrefs   num_imgs  \\\n",
       "0                   0.815385         4.0              2.0        1.0   \n",
       "1                   0.791946         3.0              1.0        1.0   \n",
       "2                   0.663866         3.0              1.0        1.0   \n",
       "\n",
       "    num_videos   average_token_length   num_keywords  \\\n",
       "0          0.0               4.680365            5.0   \n",
       "1          0.0               4.913725            4.0   \n",
       "2          0.0               4.393365            6.0   \n",
       "\n",
       "    data_channel_is_lifestyle   data_channel_is_entertainment  \\\n",
       "0                         0.0                             1.0   \n",
       "1                         0.0                             0.0   \n",
       "2                         0.0                             0.0   \n",
       "\n",
       "    data_channel_is_bus   data_channel_is_socmed   data_channel_is_tech  \\\n",
       "0                   0.0                      0.0                    0.0   \n",
       "1                   1.0                      0.0                    0.0   \n",
       "2                   1.0                      0.0                    0.0   \n",
       "\n",
       "    data_channel_is_world   kw_min_min   kw_max_min   kw_avg_min   kw_min_max  \\\n",
       "0                     0.0          0.0          0.0          0.0          0.0   \n",
       "1                     0.0          0.0          0.0          0.0          0.0   \n",
       "2                     0.0          0.0          0.0          0.0          0.0   \n",
       "\n",
       "    kw_max_max   kw_avg_max   kw_min_avg   kw_max_avg   kw_avg_avg  \\\n",
       "0          0.0          0.0          0.0          0.0          0.0   \n",
       "1          0.0          0.0          0.0          0.0          0.0   \n",
       "2          0.0          0.0          0.0          0.0          0.0   \n",
       "\n",
       "    self_reference_min_shares   self_reference_max_shares  \\\n",
       "0                       496.0                       496.0   \n",
       "1                         0.0                         0.0   \n",
       "2                       918.0                       918.0   \n",
       "\n",
       "    self_reference_avg_sharess   weekday_is_monday   weekday_is_tuesday  \\\n",
       "0                        496.0                 1.0                  0.0   \n",
       "1                          0.0                 1.0                  0.0   \n",
       "2                        918.0                 1.0                  0.0   \n",
       "\n",
       "    weekday_is_wednesday   weekday_is_thursday   weekday_is_friday  \\\n",
       "0                    0.0                   0.0                 0.0   \n",
       "1                    0.0                   0.0                 0.0   \n",
       "2                    0.0                   0.0                 0.0   \n",
       "\n",
       "    weekday_is_saturday   weekday_is_sunday   is_weekend    LDA_00    LDA_01  \\\n",
       "0                   0.0                 0.0          0.0  0.500331  0.378279   \n",
       "1                   0.0                 0.0          0.0  0.799756  0.050047   \n",
       "2                   0.0                 0.0          0.0  0.217792  0.033334   \n",
       "\n",
       "     LDA_02    LDA_03    LDA_04   global_subjectivity  \\\n",
       "0  0.040005  0.041263  0.040123              0.521617   \n",
       "1  0.050096  0.050101  0.050001              0.341246   \n",
       "2  0.033351  0.033334  0.682188              0.702222   \n",
       "\n",
       "    global_sentiment_polarity   global_rate_positive_words  \\\n",
       "0                    0.092562                     0.045662   \n",
       "1                    0.148948                     0.043137   \n",
       "2                    0.323333                     0.056872   \n",
       "\n",
       "    global_rate_negative_words   rate_positive_words   rate_negative_words  \\\n",
       "0                     0.013699              0.769231              0.230769   \n",
       "1                     0.015686              0.733333              0.266667   \n",
       "2                     0.009479              0.857143              0.142857   \n",
       "\n",
       "    avg_positive_polarity   min_positive_polarity   max_positive_polarity  \\\n",
       "0                0.378636                0.100000                     0.7   \n",
       "1                0.286915                0.033333                     0.7   \n",
       "2                0.495833                0.100000                     1.0   \n",
       "\n",
       "    avg_negative_polarity   min_negative_polarity   max_negative_polarity  \\\n",
       "0               -0.350000                  -0.600               -0.200000   \n",
       "1               -0.118750                  -0.125               -0.100000   \n",
       "2               -0.466667                  -0.800               -0.133333   \n",
       "\n",
       "    title_subjectivity   title_sentiment_polarity   abs_title_subjectivity  \\\n",
       "0                  0.5                    -0.1875                      0.0   \n",
       "1                  0.0                     0.0000                      0.5   \n",
       "2                  0.0                     0.0000                      0.5   \n",
       "\n",
       "    abs_title_sentiment_polarity   shares  \n",
       "0                         0.1875    593.0  \n",
       "1                         0.0000    711.0  \n",
       "2                         0.0000   1500.0  "
      ]
     },
     "execution_count": 5,
     "metadata": {},
     "output_type": "execute_result"
    }
   ],
   "source": [
    "import pandas as pd\n",
    "pd.set_option('display.max_columns', None)  # in order not to truncate the columns\n",
    "online_data.limit(3).toPandas()"
   ]
  },
  {
   "cell_type": "code",
   "execution_count": 5,
   "metadata": {},
   "outputs": [],
   "source": [
    "# total_rows = online_data.count()       # => 39644\n",
    "# online_data.limit(5).toPandas().shape  # => (5, 61)"
   ]
  },
  {
   "cell_type": "code",
   "execution_count": 6,
   "metadata": {},
   "outputs": [
    {
     "name": "stdout",
     "output_type": "stream",
     "text": [
      "(39644, 61)\n"
     ]
    }
   ],
   "source": [
    "print(online_data.toPandas().shape)"
   ]
  },
  {
   "cell_type": "markdown",
   "metadata": {},
   "source": [
    "We observed that almost all column names in the data have a whitespace trail before their names. So we remove it. \\\n",
    "This will be done via the `replace` function. \\\n",
    "For more infromation check the following link: https://spark.apache.org/docs/1.5.0/api/python/pyspark.sql.html#pyspark.sql.DataFrame"
   ]
  },
  {
   "cell_type": "code",
   "execution_count": 7,
   "metadata": {},
   "outputs": [
    {
     "data": {
      "text/plain": [
       "['url', ' timedelta', ' n_tokens_title', ' n_tokens_content']"
      ]
     },
     "execution_count": 7,
     "metadata": {},
     "output_type": "execute_result"
    }
   ],
   "source": [
    "online_data.columns[0:4]"
   ]
  },
  {
   "cell_type": "code",
   "execution_count": 8,
   "metadata": {},
   "outputs": [
    {
     "data": {
      "text/plain": [
       "['url', 'timedelta', 'n_tokens_title', 'n_tokens_content']"
      ]
     },
     "execution_count": 8,
     "metadata": {},
     "output_type": "execute_result"
    }
   ],
   "source": [
    "# from pyspark.sql.functions import *\n",
    "col_names = [x.replace(\" \", \"\") for x in online_data.columns]\n",
    "online_data = online_data.toDF(*col_names)     # change names in the dataframe\n",
    "\n",
    "online_data.columns[0:4]"
   ]
  },
  {
   "cell_type": "markdown",
   "metadata": {},
   "source": [
    "The purpose is to predict thenumber of shares of an online article (goal field) from the set of features. \\\n",
    "So, we removed the non-predictive attributes from the data ('url' and 'timedelta') and kept:\n",
    "   * 58 predictive features and\n",
    "   * 1 goal field (\"shares\")"
   ]
  },
  {
   "cell_type": "code",
   "execution_count": 9,
   "metadata": {},
   "outputs": [
    {
     "name": "stdout",
     "output_type": "stream",
     "text": [
      "(5, 59)\n"
     ]
    }
   ],
   "source": [
    "online_data = online_data.drop(*['url', 'timedelta']) \n",
    "# The * needs to come outside of the brackets if there are multiple columns to drop.\n",
    "# We use the * operator to pass the contents of your list as arguments to drop():\n",
    "\n",
    "print(online_data.limit(5).toPandas().shape)"
   ]
  },
  {
   "cell_type": "code",
   "execution_count": 10,
   "metadata": {},
   "outputs": [
    {
     "data": {
      "text/html": [
       "<div>\n",
       "<style scoped>\n",
       "    .dataframe tbody tr th:only-of-type {\n",
       "        vertical-align: middle;\n",
       "    }\n",
       "\n",
       "    .dataframe tbody tr th {\n",
       "        vertical-align: top;\n",
       "    }\n",
       "\n",
       "    .dataframe thead th {\n",
       "        text-align: right;\n",
       "    }\n",
       "</style>\n",
       "<table border=\"1\" class=\"dataframe\">\n",
       "  <thead>\n",
       "    <tr style=\"text-align: right;\">\n",
       "      <th></th>\n",
       "      <th>n_tokens_title</th>\n",
       "      <th>n_tokens_content</th>\n",
       "      <th>n_unique_tokens</th>\n",
       "      <th>n_non_stop_words</th>\n",
       "      <th>n_non_stop_unique_tokens</th>\n",
       "      <th>num_hrefs</th>\n",
       "      <th>num_self_hrefs</th>\n",
       "      <th>num_imgs</th>\n",
       "      <th>num_videos</th>\n",
       "      <th>average_token_length</th>\n",
       "      <th>...</th>\n",
       "      <th>min_positive_polarity</th>\n",
       "      <th>max_positive_polarity</th>\n",
       "      <th>avg_negative_polarity</th>\n",
       "      <th>min_negative_polarity</th>\n",
       "      <th>max_negative_polarity</th>\n",
       "      <th>title_subjectivity</th>\n",
       "      <th>title_sentiment_polarity</th>\n",
       "      <th>abs_title_subjectivity</th>\n",
       "      <th>abs_title_sentiment_polarity</th>\n",
       "      <th>shares</th>\n",
       "    </tr>\n",
       "  </thead>\n",
       "  <tbody>\n",
       "    <tr>\n",
       "      <th>0</th>\n",
       "      <td>12.0</td>\n",
       "      <td>219.0</td>\n",
       "      <td>0.663594</td>\n",
       "      <td>1.0</td>\n",
       "      <td>0.815385</td>\n",
       "      <td>4.0</td>\n",
       "      <td>2.0</td>\n",
       "      <td>1.0</td>\n",
       "      <td>0.0</td>\n",
       "      <td>4.680365</td>\n",
       "      <td>...</td>\n",
       "      <td>0.100000</td>\n",
       "      <td>0.7</td>\n",
       "      <td>-0.350000</td>\n",
       "      <td>-0.600</td>\n",
       "      <td>-0.200000</td>\n",
       "      <td>0.5</td>\n",
       "      <td>-0.1875</td>\n",
       "      <td>0.0</td>\n",
       "      <td>0.1875</td>\n",
       "      <td>593.0</td>\n",
       "    </tr>\n",
       "    <tr>\n",
       "      <th>1</th>\n",
       "      <td>9.0</td>\n",
       "      <td>255.0</td>\n",
       "      <td>0.604743</td>\n",
       "      <td>1.0</td>\n",
       "      <td>0.791946</td>\n",
       "      <td>3.0</td>\n",
       "      <td>1.0</td>\n",
       "      <td>1.0</td>\n",
       "      <td>0.0</td>\n",
       "      <td>4.913725</td>\n",
       "      <td>...</td>\n",
       "      <td>0.033333</td>\n",
       "      <td>0.7</td>\n",
       "      <td>-0.118750</td>\n",
       "      <td>-0.125</td>\n",
       "      <td>-0.100000</td>\n",
       "      <td>0.0</td>\n",
       "      <td>0.0000</td>\n",
       "      <td>0.5</td>\n",
       "      <td>0.0000</td>\n",
       "      <td>711.0</td>\n",
       "    </tr>\n",
       "    <tr>\n",
       "      <th>2</th>\n",
       "      <td>9.0</td>\n",
       "      <td>211.0</td>\n",
       "      <td>0.575130</td>\n",
       "      <td>1.0</td>\n",
       "      <td>0.663866</td>\n",
       "      <td>3.0</td>\n",
       "      <td>1.0</td>\n",
       "      <td>1.0</td>\n",
       "      <td>0.0</td>\n",
       "      <td>4.393365</td>\n",
       "      <td>...</td>\n",
       "      <td>0.100000</td>\n",
       "      <td>1.0</td>\n",
       "      <td>-0.466667</td>\n",
       "      <td>-0.800</td>\n",
       "      <td>-0.133333</td>\n",
       "      <td>0.0</td>\n",
       "      <td>0.0000</td>\n",
       "      <td>0.5</td>\n",
       "      <td>0.0000</td>\n",
       "      <td>1500.0</td>\n",
       "    </tr>\n",
       "  </tbody>\n",
       "</table>\n",
       "<p>3 rows × 59 columns</p>\n",
       "</div>"
      ],
      "text/plain": [
       "   n_tokens_title  n_tokens_content  n_unique_tokens  n_non_stop_words  \\\n",
       "0            12.0             219.0         0.663594               1.0   \n",
       "1             9.0             255.0         0.604743               1.0   \n",
       "2             9.0             211.0         0.575130               1.0   \n",
       "\n",
       "   n_non_stop_unique_tokens  num_hrefs  num_self_hrefs  num_imgs  num_videos  \\\n",
       "0                  0.815385        4.0             2.0       1.0         0.0   \n",
       "1                  0.791946        3.0             1.0       1.0         0.0   \n",
       "2                  0.663866        3.0             1.0       1.0         0.0   \n",
       "\n",
       "   average_token_length  ...  min_positive_polarity  max_positive_polarity  \\\n",
       "0              4.680365  ...               0.100000                    0.7   \n",
       "1              4.913725  ...               0.033333                    0.7   \n",
       "2              4.393365  ...               0.100000                    1.0   \n",
       "\n",
       "   avg_negative_polarity  min_negative_polarity  max_negative_polarity  \\\n",
       "0              -0.350000                 -0.600              -0.200000   \n",
       "1              -0.118750                 -0.125              -0.100000   \n",
       "2              -0.466667                 -0.800              -0.133333   \n",
       "\n",
       "   title_subjectivity  title_sentiment_polarity  abs_title_subjectivity  \\\n",
       "0                 0.5                   -0.1875                     0.0   \n",
       "1                 0.0                    0.0000                     0.5   \n",
       "2                 0.0                    0.0000                     0.5   \n",
       "\n",
       "   abs_title_sentiment_polarity  shares  \n",
       "0                        0.1875   593.0  \n",
       "1                        0.0000   711.0  \n",
       "2                        0.0000  1500.0  \n",
       "\n",
       "[3 rows x 59 columns]"
      ]
     },
     "execution_count": 10,
     "metadata": {},
     "output_type": "execute_result"
    }
   ],
   "source": [
    "online_data.limit(3).toPandas()"
   ]
  },
  {
   "cell_type": "markdown",
   "metadata": {},
   "source": [
    "## <ins>Comment for partitions</ins>"
   ]
  },
  {
   "cell_type": "markdown",
   "metadata": {},
   "source": [
    "* Spark breaks the data into *partitions*.\n",
    "\n",
    "* A partition is a collection of rows that sits on a single computer in your cluster."
   ]
  },
  {
   "cell_type": "code",
   "execution_count": 11,
   "metadata": {},
   "outputs": [
    {
     "name": "stdout",
     "output_type": "stream",
     "text": [
      "(39644, 59)\n",
      "6\n"
     ]
    }
   ],
   "source": [
    "print(online_data.toPandas().shape)\n",
    "print(online_data.rdd.getNumPartitions())"
   ]
  },
  {
   "cell_type": "markdown",
   "metadata": {},
   "source": [
    "* The data contain almost 39600 rows, which will split into 6 partitions. that means that approximately every partition will contain 6600 rows. This files are less than 4000 kB, which is  a very reasonable size to analyze.\n",
    "\n",
    "* Our dataset is considered small so we do not need to further partition the dataframe. For example, if we used 500 partitions this would be an overkill which would lead to slower processing because of scheduling overheads.\n",
    "\n",
    "* If we analyzed a large dataset, we could further repartition the dataframe.\n",
    "`The repartition algorithm` does a full shuffle of the data and creates equal sized partitions of data. It can be used to either increase or decrease the number of partitions in a dataframe.\n",
    "\n",
    "* For example, we could use 100 partitions which in our case would create files with approximately 390 rows each and a size less than 200kB.\n",
    "\n",
    "* Repartition imporoves performance as it allows us to process data a lot faster."
   ]
  },
  {
   "cell_type": "markdown",
   "metadata": {},
   "source": [
    "### => 1st way: Repartition"
   ]
  },
  {
   "cell_type": "code",
   "execution_count": 12,
   "metadata": {},
   "outputs": [
    {
     "name": "stdout",
     "output_type": "stream",
     "text": [
      "100\n"
     ]
    }
   ],
   "source": [
    "## 1st way: Repartition\n",
    "\n",
    "partitioned_data = online_data.repartition(100)\n",
    "print(partitioned_data.rdd.getNumPartitions())\n",
    "partitioned_data.write.mode(\"overwrite\").csv(\"data/online_part.csv\", header=True)"
   ]
  },
  {
   "cell_type": "code",
   "execution_count": null,
   "metadata": {},
   "outputs": [],
   "source": [
    "## Download this directory\n",
    "#       !tar czf data.tar.gz data"
   ]
  },
  {
   "cell_type": "markdown",
   "metadata": {},
   "source": [
    "### => 2nd way: Dynamically Setting the Shuffle Partitions"
   ]
  },
  {
   "cell_type": "code",
   "execution_count": 15,
   "metadata": {},
   "outputs": [],
   "source": [
    "## 2nd way: Dynamically Setting the Shuffle Partitions\n",
    "spark.conf.set(\"spark.sql.shuffle.partitions\", 100)"
   ]
  },
  {
   "cell_type": "markdown",
   "metadata": {},
   "source": [
    "# <center>Random Forest Regression</center>"
   ]
  },
  {
   "cell_type": "markdown",
   "metadata": {},
   "source": [
    "# Random Forest\n",
    "* [*Random forests*](https://spark.apache.org/docs/latest/mllib-ensembles.html#random-forests) combine many decision trees in order to reduce the risk of overfitting.\n",
    "\n",
    "* In particular, the algorithm injects randomness into the training process so that each decision tree is a bit different. \n",
    "\n",
    "* The randomness injected into the training process includes:\n",
    "\n",
    "  * Subsampling the original dataset on each iteration to get a different training set (a.k.a. bootstrapping).\n",
    "  \n",
    "  * Considering different random subsets of features to split on at each tree node.\n",
    "\n",
    "* Combining the predictions from each tree reduces the variance of the predictions, improving the performance on test data."
   ]
  },
  {
   "cell_type": "markdown",
   "metadata": {},
   "source": [
    "* In order to perform machine learning tasks in Spark, we will use the MLib library from the `pyspark.ml` package."
   ]
  },
  {
   "cell_type": "markdown",
   "metadata": {},
   "source": [
    "[*createOrReplaceTempView*](https://spark.apache.org/docs/2.2.0/api/R/createOrReplaceTempView.html) is used when we want to store a table for a particular spark session. \\\n",
    "It creates (or replaces if that view name already exists) a temporary view using a SparkDataFrame in the Spark Session. \\\n",
    "You can then use like a hive table in Spark SQL and run SQL query on top of that."
   ]
  },
  {
   "cell_type": "code",
   "execution_count": 12,
   "metadata": {},
   "outputs": [],
   "source": [
    "online_data.createOrReplaceTempView(\"online_data\")\n",
    "# online_data.printSchema()"
   ]
  },
  {
   "cell_type": "markdown",
   "metadata": {},
   "source": [
    "* Algorithms in MLib require that our data is numerical.\n",
    "\n",
    "* By observing the schema of the dataframe we observed that all variables have been recognized as double datatype. So we dot have to make any transformations.\n",
    "   * DoubleType: Represents 8-byte double-precision floating point numbers.\n"
   ]
  },
  {
   "cell_type": "code",
   "execution_count": 13,
   "metadata": {},
   "outputs": [],
   "source": [
    "from pyspark.ml import Pipeline\n",
    "from pyspark.ml.feature import VectorAssembler\n",
    "\n",
    "from pyspark.ml.regression import RandomForestRegressor\n",
    "from pyspark.ml.evaluation import RegressionEvaluator"
   ]
  },
  {
   "cell_type": "markdown",
   "metadata": {},
   "source": [
    "* As in all Machine Learning tasks, we will split the dataset in two parts, one for training and one for testing.\n",
    "* We decided to use 70% of the data as training and the remaining 30% as testing."
   ]
  },
  {
   "cell_type": "code",
   "execution_count": 14,
   "metadata": {},
   "outputs": [],
   "source": [
    "(training_data, test_data) = online_data.randomSplit([0.7, 0.3])"
   ]
  },
  {
   "cell_type": "markdown",
   "metadata": {},
   "source": [
    "* Spark ML’s Random Forest class requires that the features are formatted as a single vector. \n",
    "\n",
    "* So, before creating and running our model we need to collect all the features in one vector. \n",
    "\n",
    "* The features columns are all but the last one.\n",
    "\n",
    "<ins> Explanation of functions used below:</ins>\n",
    "\n",
    "* We will use a `VectorAssembler` to create the new column containing the features vector. This takes a list of columns that will be included in the new ‘features’ column.\n",
    "\n",
    "* Since the two steps of assembling the features and then running the classifier will always need to be performed in this order, we create a `pipeline` to do that. So after splitting tha data into training and test, it creates the \"features\" column \n",
    "\n",
    "* We created a `RandomForestRegressor`, specifying the previously created features via $featuresCol$ parameter and the target columnvia the $labelCol$ parameter."
   ]
  },
  {
   "cell_type": "code",
   "execution_count": 15,
   "metadata": {},
   "outputs": [],
   "source": [
    "assembler = VectorAssembler(\n",
    "    inputCols=[ x for x in online_data.columns[:-1] ],  # remove the goal variable from the feutures\n",
    "    outputCol='features')\n",
    "\n",
    "# inputCols=[ x for x in unenc_training_data.columns if x != \"shares\" ], outputCol='features')\n",
    "\n",
    "regressor = RandomForestRegressor(labelCol=\"shares\", featuresCol=\"features\")\n",
    "\n",
    "pipeline = Pipeline().setStages([assembler, regressor])"
   ]
  },
  {
   "cell_type": "code",
   "execution_count": 16,
   "metadata": {},
   "outputs": [],
   "source": [
    "# We create a model by fitting with the training data.\n",
    "model = pipeline.fit(training_data)"
   ]
  },
  {
   "cell_type": "markdown",
   "metadata": {},
   "source": [
    "## Feature Importance\n",
    "* Interpretability is very important in machine learning. We need to assess the importance of each input feature to making predictions in order to understand which features were most important to the outcomes.\n",
    "\n",
    "* The function `featureImportances` establishes a percentage of how influential each feature is on the model’s predictions. We therefore take each feature importance with the corresponding column and we print them out."
   ]
  },
  {
   "cell_type": "markdown",
   "metadata": {},
   "source": [
    "* Remember that we have run a pipeline; the pipeline had two stages, a `VectorAssembler` and a `DecisionTreeRegressor`.\n",
    "\n",
    "* Therefore we'll extract the last stage of the pipeline, to get the parameters in a dictionary containing hyperparameters and their values."
   ]
  },
  {
   "cell_type": "code",
   "execution_count": 17,
   "metadata": {},
   "outputs": [
    {
     "data": {
      "text/html": [
       "<div>\n",
       "<style scoped>\n",
       "    .dataframe tbody tr th:only-of-type {\n",
       "        vertical-align: middle;\n",
       "    }\n",
       "\n",
       "    .dataframe tbody tr th {\n",
       "        vertical-align: top;\n",
       "    }\n",
       "\n",
       "    .dataframe thead th {\n",
       "        text-align: right;\n",
       "    }\n",
       "</style>\n",
       "<table border=\"1\" class=\"dataframe\">\n",
       "  <thead>\n",
       "    <tr style=\"text-align: right;\">\n",
       "      <th></th>\n",
       "      <th>Importance</th>\n",
       "      <th>feature</th>\n",
       "    </tr>\n",
       "  </thead>\n",
       "  <tbody>\n",
       "    <tr>\n",
       "      <th>0</th>\n",
       "      <td>0.075811</td>\n",
       "      <td>num_hrefs</td>\n",
       "    </tr>\n",
       "    <tr>\n",
       "      <th>1</th>\n",
       "      <td>0.058339</td>\n",
       "      <td>average_token_length</td>\n",
       "    </tr>\n",
       "    <tr>\n",
       "      <th>2</th>\n",
       "      <td>0.053890</td>\n",
       "      <td>n_tokens_title</td>\n",
       "    </tr>\n",
       "    <tr>\n",
       "      <th>3</th>\n",
       "      <td>0.050870</td>\n",
       "      <td>avg_negative_polarity</td>\n",
       "    </tr>\n",
       "    <tr>\n",
       "      <th>4</th>\n",
       "      <td>0.048769</td>\n",
       "      <td>self_reference_avg_sharess</td>\n",
       "    </tr>\n",
       "    <tr>\n",
       "      <th>53</th>\n",
       "      <td>0.000009</td>\n",
       "      <td>data_channel_is_world</td>\n",
       "    </tr>\n",
       "    <tr>\n",
       "      <th>54</th>\n",
       "      <td>0.000000</td>\n",
       "      <td>weekday_is_tuesday</td>\n",
       "    </tr>\n",
       "    <tr>\n",
       "      <th>55</th>\n",
       "      <td>0.000000</td>\n",
       "      <td>weekday_is_thursday</td>\n",
       "    </tr>\n",
       "    <tr>\n",
       "      <th>56</th>\n",
       "      <td>0.000000</td>\n",
       "      <td>weekday_is_friday</td>\n",
       "    </tr>\n",
       "    <tr>\n",
       "      <th>57</th>\n",
       "      <td>0.000000</td>\n",
       "      <td>max_positive_polarity</td>\n",
       "    </tr>\n",
       "  </tbody>\n",
       "</table>\n",
       "</div>"
      ],
      "text/plain": [
       "    Importance                     feature\n",
       "0     0.075811                   num_hrefs\n",
       "1     0.058339        average_token_length\n",
       "2     0.053890              n_tokens_title\n",
       "3     0.050870       avg_negative_polarity\n",
       "4     0.048769  self_reference_avg_sharess\n",
       "53    0.000009       data_channel_is_world\n",
       "54    0.000000          weekday_is_tuesday\n",
       "55    0.000000         weekday_is_thursday\n",
       "56    0.000000           weekday_is_friday\n",
       "57    0.000000       max_positive_polarity"
      ]
     },
     "execution_count": 17,
     "metadata": {},
     "output_type": "execute_result"
    }
   ],
   "source": [
    "import pandas as pd   \n",
    "model1b = model.stages[-1]\n",
    "\n",
    "imp_feat = []\n",
    "for feature, name in sorted(zip(model1b.featureImportances, training_data.columns), reverse=True):\n",
    "    imp_feat.append((feature, name))\n",
    "    \n",
    "features_imp11 = pd.DataFrame(imp_feat, columns=['Importance','feature'])\n",
    "# features_imp11.head(6)\n",
    "features_imp11.iloc[list(range(5))+list(range(-5,0))]  # 5 first most important and 5 least important features"
   ]
  },
  {
   "cell_type": "markdown",
   "metadata": {},
   "source": [
    "<ins>Comment</ins>\n",
    "It looks like the following attributes are the most important predictors of the number of shares. \n",
    "\n",
    "| Attribute | Attribute Information | \n",
    "|----------------|-------|\n",
    "| num_hrefs |  Number of links | \n",
    "| average_token_length |  Average length of the words in the content | \n",
    "| n_tokens_title |  Number of words in the title | \n",
    "| avg_negative_polarity |  Avg. polarity of negative words | \n",
    "| self_reference_avg_sharess |  Avg. shares of referenced articles in Mashable | "
   ]
  },
  {
   "cell_type": "markdown",
   "metadata": {},
   "source": [
    "* For better undrestanding we will also created a plot showing the ten most important features in the data."
   ]
  },
  {
   "cell_type": "code",
   "execution_count": 18,
   "metadata": {},
   "outputs": [
    {
     "data": {
      "text/plain": [
       "Text(0.5, 1.0, '10 Most important features')"
      ]
     },
     "execution_count": 18,
     "metadata": {},
     "output_type": "execute_result"
    },
    {
     "data": {
      "image/png": "[encoded data removed]",
      "text/plain": [
       "<Figure size 1152x576 with 1 Axes>"
      ]
     },
     "metadata": {
      "needs_background": "light"
     },
     "output_type": "display_data"
    }
   ],
   "source": [
    "# Plot the feature importances of the forest\n",
    "\n",
    "import matplotlib.pyplot as plt \n",
    "plt.figure(figsize=(16,8))\n",
    "\n",
    "plot_data = features_imp11.head(10)\n",
    "\n",
    "\n",
    "importances = plot_data.Importance\n",
    "val = list(range(len(importances)))\n",
    "\n",
    "plt.bar(val, importances, color=\"firebrick\", align=\"center\")   # or:  orientation = 'vertical'\n",
    "plt.xticks(val, plot_data.feature, rotation=40)\n",
    "\n",
    "plt.ylabel('Importance', fontsize=15)\n",
    "plt.xlabel('Feature', fontsize=15)\n",
    "plt.title('10 Most important features', fontsize=18)"
   ]
  },
  {
   "cell_type": "markdown",
   "metadata": {},
   "source": [
    "* Having created a random forest, we make our predictions using `transform()`."
   ]
  },
  {
   "cell_type": "code",
   "execution_count": 22,
   "metadata": {},
   "outputs": [],
   "source": [
    "predictions = model.transform(test_data)"
   ]
  },
  {
   "cell_type": "markdown",
   "metadata": {},
   "source": [
    "* <ins>Some optimization</ins>: In principle we are recomputing all transformations every time.\n",
    "\n",
    "* In order to re-use the previously computed predictions (transformations) we have performed, we can cache the results in memory using `caching`.\n",
    "\n",
    "* Caching is an optimization technique for interactive and iterative Spark computations. It helps to save intermediate results so we can reuse them in subsequent stages."
   ]
  },
  {
   "cell_type": "code",
   "execution_count": 23,
   "metadata": {},
   "outputs": [
    {
     "data": {
      "text/plain": [
       "DataFrame[n_tokens_title: double, n_tokens_content: double, n_unique_tokens: double, n_non_stop_words: double, n_non_stop_unique_tokens: double, num_hrefs: double, num_self_hrefs: double, num_imgs: double, num_videos: double, average_token_length: double, num_keywords: double, data_channel_is_lifestyle: double, data_channel_is_entertainment: double, data_channel_is_bus: double, data_channel_is_socmed: double, data_channel_is_tech: double, data_channel_is_world: double, kw_min_min: double, kw_max_min: double, kw_avg_min: double, kw_min_max: double, kw_max_max: double, kw_avg_max: double, kw_min_avg: double, kw_max_avg: double, kw_avg_avg: double, self_reference_min_shares: double, self_reference_max_shares: double, self_reference_avg_sharess: double, weekday_is_monday: double, weekday_is_tuesday: double, weekday_is_wednesday: double, weekday_is_thursday: double, weekday_is_friday: double, weekday_is_saturday: double, weekday_is_sunday: double, is_weekend: double, LDA_00: double, LDA_01: double, LDA_02: double, LDA_03: double, LDA_04: double, global_subjectivity: double, global_sentiment_polarity: double, global_rate_positive_words: double, global_rate_negative_words: double, rate_positive_words: double, rate_negative_words: double, avg_positive_polarity: double, min_positive_polarity: double, max_positive_polarity: double, avg_negative_polarity: double, min_negative_polarity: double, max_negative_polarity: double, title_subjectivity: double, title_sentiment_polarity: double, abs_title_subjectivity: double, abs_title_sentiment_polarity: double, shares: double, features: vector, prediction: double]"
      ]
     },
     "execution_count": 23,
     "metadata": {},
     "output_type": "execute_result"
    }
   ],
   "source": [
    "predictions.cache()"
   ]
  },
  {
   "cell_type": "markdown",
   "metadata": {},
   "source": [
    "* We observed that a predicted column was created at the end of the dataframe.\n",
    "* In order to compute the $RMSE$ later on we need both the actual and the predicted value. Some of their values are shown below in contract:"
   ]
  },
  {
   "cell_type": "code",
   "execution_count": 24,
   "metadata": {},
   "outputs": [
    {
     "data": {
      "text/html": [
       "<div>\n",
       "<style scoped>\n",
       "    .dataframe tbody tr th:only-of-type {\n",
       "        vertical-align: middle;\n",
       "    }\n",
       "\n",
       "    .dataframe tbody tr th {\n",
       "        vertical-align: top;\n",
       "    }\n",
       "\n",
       "    .dataframe thead th {\n",
       "        text-align: right;\n",
       "    }\n",
       "</style>\n",
       "<table border=\"1\" class=\"dataframe\">\n",
       "  <thead>\n",
       "    <tr style=\"text-align: right;\">\n",
       "      <th></th>\n",
       "      <th>shares</th>\n",
       "      <th>prediction</th>\n",
       "    </tr>\n",
       "  </thead>\n",
       "  <tbody>\n",
       "    <tr>\n",
       "      <th>0</th>\n",
       "      <td>2300.0</td>\n",
       "      <td>2858.645512</td>\n",
       "    </tr>\n",
       "    <tr>\n",
       "      <th>1</th>\n",
       "      <td>3100.0</td>\n",
       "      <td>2450.950796</td>\n",
       "    </tr>\n",
       "    <tr>\n",
       "      <th>2</th>\n",
       "      <td>2600.0</td>\n",
       "      <td>2310.074755</td>\n",
       "    </tr>\n",
       "    <tr>\n",
       "      <th>3</th>\n",
       "      <td>2700.0</td>\n",
       "      <td>3806.269104</td>\n",
       "    </tr>\n",
       "    <tr>\n",
       "      <th>4</th>\n",
       "      <td>7800.0</td>\n",
       "      <td>2886.848617</td>\n",
       "    </tr>\n",
       "  </tbody>\n",
       "</table>\n",
       "</div>"
      ],
      "text/plain": [
       "   shares   prediction\n",
       "0  2300.0  2858.645512\n",
       "1  3100.0  2450.950796\n",
       "2  2600.0  2310.074755\n",
       "3  2700.0  3806.269104\n",
       "4  7800.0  2886.848617"
      ]
     },
     "execution_count": 24,
     "metadata": {},
     "output_type": "execute_result"
    }
   ],
   "source": [
    "predictions.select(\"shares\", \"prediction\").limit(5).toPandas()"
   ]
  },
  {
   "cell_type": "markdown",
   "metadata": {},
   "source": [
    "### Understanding the `feautures` column"
   ]
  },
  {
   "cell_type": "markdown",
   "metadata": {},
   "source": [
    "### <ins>Example 1</ins>:"
   ]
  },
  {
   "cell_type": "markdown",
   "metadata": {},
   "source": [
    "* We can also understand now how the `features` column is represented.\n",
    "\n",
    "* For example if we see the first row in the dataframe below we understand that in the `features` column:\n",
    "  \n",
    "  * The first element is `n_tokens_title`.\n",
    "  \n",
    "  * The second element is `n_tokens_content` etc."
   ]
  },
  {
   "cell_type": "code",
   "execution_count": 25,
   "metadata": {},
   "outputs": [
    {
     "data": {
      "text/html": [
       "<div>\n",
       "<style scoped>\n",
       "    .dataframe tbody tr th:only-of-type {\n",
       "        vertical-align: middle;\n",
       "    }\n",
       "\n",
       "    .dataframe tbody tr th {\n",
       "        vertical-align: top;\n",
       "    }\n",
       "\n",
       "    .dataframe thead th {\n",
       "        text-align: right;\n",
       "    }\n",
       "</style>\n",
       "<table border=\"1\" class=\"dataframe\">\n",
       "  <thead>\n",
       "    <tr style=\"text-align: right;\">\n",
       "      <th></th>\n",
       "      <th>n_tokens_title</th>\n",
       "      <th>n_tokens_content</th>\n",
       "      <th>features</th>\n",
       "    </tr>\n",
       "  </thead>\n",
       "  <tbody>\n",
       "    <tr>\n",
       "      <th>0</th>\n",
       "      <td>4.0</td>\n",
       "      <td>98.0</td>\n",
       "      <td>[4.0, 98.0, 0.670212758828, 0.999999980392, 0....</td>\n",
       "    </tr>\n",
       "    <tr>\n",
       "      <th>1</th>\n",
       "      <td>4.0</td>\n",
       "      <td>275.0</td>\n",
       "      <td>[4.0, 275.0, 0.61538461313, 0.999999993671, 0....</td>\n",
       "    </tr>\n",
       "    <tr>\n",
       "      <th>2</th>\n",
       "      <td>4.0</td>\n",
       "      <td>297.0</td>\n",
       "      <td>[4.0, 297.0, 0.613013696531, 0.999999994318, 0...</td>\n",
       "    </tr>\n",
       "    <tr>\n",
       "      <th>3</th>\n",
       "      <td>5.0</td>\n",
       "      <td>179.0</td>\n",
       "      <td>[5.0, 179.0, 0.668539322087, 0.999999990385, 0...</td>\n",
       "    </tr>\n",
       "    <tr>\n",
       "      <th>4</th>\n",
       "      <td>5.0</td>\n",
       "      <td>212.0</td>\n",
       "      <td>[5.0, 212.0, 0.665024627266, 0.999999992481, 0...</td>\n",
       "    </tr>\n",
       "  </tbody>\n",
       "</table>\n",
       "</div>"
      ],
      "text/plain": [
       "   n_tokens_title  n_tokens_content  \\\n",
       "0             4.0              98.0   \n",
       "1             4.0             275.0   \n",
       "2             4.0             297.0   \n",
       "3             5.0             179.0   \n",
       "4             5.0             212.0   \n",
       "\n",
       "                                            features  \n",
       "0  [4.0, 98.0, 0.670212758828, 0.999999980392, 0....  \n",
       "1  [4.0, 275.0, 0.61538461313, 0.999999993671, 0....  \n",
       "2  [4.0, 297.0, 0.613013696531, 0.999999994318, 0...  \n",
       "3  [5.0, 179.0, 0.668539322087, 0.999999990385, 0...  \n",
       "4  [5.0, 212.0, 0.665024627266, 0.999999992481, 0...  "
      ]
     },
     "execution_count": 25,
     "metadata": {},
     "output_type": "execute_result"
    }
   ],
   "source": [
    "predictions.select(\"n_tokens_title\",\"n_tokens_content\", \"features\").limit(5).toPandas()"
   ]
  },
  {
   "cell_type": "markdown",
   "metadata": {},
   "source": [
    "### <ins>Example 2</ins>:\n",
    "We observed that the variables refer to data_channel are six boolean variables. Let's show how these will be represented in the as a vector which will be used for all the machine learning tasks."
   ]
  },
  {
   "cell_type": "code",
   "execution_count": 30,
   "metadata": {},
   "outputs": [],
   "source": [
    "from pyspark.ml.feature import VectorAssembler\n",
    "\n",
    "data_channel = [\"data_channel_is_lifestyle\", \"data_channel_is_entertainment\", \"data_channel_is_bus\",\"data_channel_is_socmed\", \\\n",
    "               \"data_channel_is_tech\", \"data_channel_is_world\"]\n",
    "\n",
    "vector_assembler3 = VectorAssembler()\\\n",
    "  .setInputCols(data_channel)\\\n",
    "  .setOutputCol(\"data_channel_encoded\")\n",
    "\n",
    "from pyspark.ml import Pipeline\n",
    "transformation_pipeline1 = Pipeline().setStages([vector_assembler3])"
   ]
  },
  {
   "cell_type": "code",
   "execution_count": 32,
   "metadata": {},
   "outputs": [
    {
     "name": "stdout",
     "output_type": "stream",
     "text": [
      "(39644, 59)   =>   (39644, 60)\n"
     ]
    }
   ],
   "source": [
    "fitted_pipeline1 = transformation_pipeline1.fit(online_data)\n",
    "data_temp1 = fitted_pipeline1.transform(online_data)\n",
    "\n",
    "print(online_data.toPandas().shape,\"  =>  \",data_temp1.toPandas().shape)"
   ]
  },
  {
   "cell_type": "code",
   "execution_count": 34,
   "metadata": {},
   "outputs": [
    {
     "data": {
      "text/html": [
       "<div>\n",
       "<style scoped>\n",
       "    .dataframe tbody tr th:only-of-type {\n",
       "        vertical-align: middle;\n",
       "    }\n",
       "\n",
       "    .dataframe tbody tr th {\n",
       "        vertical-align: top;\n",
       "    }\n",
       "\n",
       "    .dataframe thead th {\n",
       "        text-align: right;\n",
       "    }\n",
       "</style>\n",
       "<table border=\"1\" class=\"dataframe\">\n",
       "  <thead>\n",
       "    <tr style=\"text-align: right;\">\n",
       "      <th></th>\n",
       "      <th>data_channel_is_lifestyle</th>\n",
       "      <th>data_channel_is_entertainment</th>\n",
       "      <th>data_channel_is_bus</th>\n",
       "      <th>data_channel_is_socmed</th>\n",
       "      <th>data_channel_is_tech</th>\n",
       "      <th>data_channel_is_world</th>\n",
       "      <th>data_channel_encoded</th>\n",
       "    </tr>\n",
       "  </thead>\n",
       "  <tbody>\n",
       "    <tr>\n",
       "      <th>0</th>\n",
       "      <td>0.0</td>\n",
       "      <td>1.0</td>\n",
       "      <td>0.0</td>\n",
       "      <td>0.0</td>\n",
       "      <td>0.0</td>\n",
       "      <td>0.0</td>\n",
       "      <td>(0.0, 1.0, 0.0, 0.0, 0.0, 0.0)</td>\n",
       "    </tr>\n",
       "    <tr>\n",
       "      <th>1</th>\n",
       "      <td>0.0</td>\n",
       "      <td>0.0</td>\n",
       "      <td>1.0</td>\n",
       "      <td>0.0</td>\n",
       "      <td>0.0</td>\n",
       "      <td>0.0</td>\n",
       "      <td>(0.0, 0.0, 1.0, 0.0, 0.0, 0.0)</td>\n",
       "    </tr>\n",
       "    <tr>\n",
       "      <th>2</th>\n",
       "      <td>0.0</td>\n",
       "      <td>0.0</td>\n",
       "      <td>1.0</td>\n",
       "      <td>0.0</td>\n",
       "      <td>0.0</td>\n",
       "      <td>0.0</td>\n",
       "      <td>(0.0, 0.0, 1.0, 0.0, 0.0, 0.0)</td>\n",
       "    </tr>\n",
       "  </tbody>\n",
       "</table>\n",
       "</div>"
      ],
      "text/plain": [
       "   data_channel_is_lifestyle  data_channel_is_entertainment  \\\n",
       "0                        0.0                            1.0   \n",
       "1                        0.0                            0.0   \n",
       "2                        0.0                            0.0   \n",
       "\n",
       "   data_channel_is_bus  data_channel_is_socmed  data_channel_is_tech  \\\n",
       "0                  0.0                     0.0                   0.0   \n",
       "1                  1.0                     0.0                   0.0   \n",
       "2                  1.0                     0.0                   0.0   \n",
       "\n",
       "   data_channel_is_world            data_channel_encoded  \n",
       "0                    0.0  (0.0, 1.0, 0.0, 0.0, 0.0, 0.0)  \n",
       "1                    0.0  (0.0, 0.0, 1.0, 0.0, 0.0, 0.0)  \n",
       "2                    0.0  (0.0, 0.0, 1.0, 0.0, 0.0, 0.0)  "
      ]
     },
     "execution_count": 34,
     "metadata": {},
     "output_type": "execute_result"
    }
   ],
   "source": [
    "data_temp1.select(\"data_channel_is_lifestyle\", \"data_channel_is_entertainment\", \"data_channel_is_bus\", \"data_channel_is_socmed\", \\\n",
    "                   \"data_channel_is_tech\",\"data_channel_is_world\", \"data_channel_encoded\").limit(3).toPandas()"
   ]
  },
  {
   "cell_type": "markdown",
   "metadata": {},
   "source": [
    "* It is obvious that the information in the last column, contains all the encoded information of the six columns in just one vector.\n",
    "* For example we understand from the last column that:\n",
    "    * In the first row: The data channel is 'Entertainment' (the 2rd value equals to one and all the other values equal to zero)\n",
    "    * In the second row: The data channel is 'Business'  (the 3rd value equals to one and all the other values equal to zero) etc."
   ]
  },
  {
   "cell_type": "markdown",
   "metadata": {},
   "source": [
    "* <font size=\"3\">We will also calculate the Root Mean Squared Error (RMSE) of the model predictions, by using the `RegressionEvaluator` function.</font>"
   ]
  },
  {
   "cell_type": "code",
   "execution_count": 36,
   "metadata": {},
   "outputs": [
    {
     "name": "stdout",
     "output_type": "stream",
     "text": [
      "RMSE = 10475.7\n"
     ]
    }
   ],
   "source": [
    "# Evaluate model\n",
    "# Root mean squared error\n",
    "\n",
    "from pyspark.ml.evaluation import RegressionEvaluator\n",
    "evaluator = RegressionEvaluator(metricName=\"rmse\", predictionCol=\"prediction\", labelCol=\"shares\")\n",
    "\n",
    "rmse = evaluator.evaluate(predictions)\n",
    "print(\"RMSE = %g\" % rmse)"
   ]
  },
  {
   "cell_type": "markdown",
   "metadata": {},
   "source": [
    "# <center>Hyperparameter tuning</center>"
   ]
  },
  {
   "cell_type": "markdown",
   "metadata": {},
   "source": [
    "### BEST HYPERPARAMETERS\n",
    "* We will investigate which parameters performed best, by using *grid search*.\n",
    "* The [*hyperparameters*](https://spark.apache.org/docs/latest/api/scala/#org.apache.spark.ml.regression.RandomForestRegressor) of the random forest regressor that we want to optimize are:\n",
    "    * maxDepth: maximum depth of the tree\n",
    "    * maxBins:  maximum number of bins\n",
    "    * minInfoGain: minimum information gain for a split to be considered at a tree node\n",
    "    * numTrees: Number of trees to train (at least 1). If greater than 1, then bootstrapping is done\n",
    "\n",
    "* We specified the The set of possible values for the hyperparameters, which was chosen based on experience and trial and error practices.\n",
    "\n",
    "* We used two possible values for each of the four afforementioned hyperparameters, which means that Spark will check 16 different models; grid search may require *a lot* of time.\n",
    "\n",
    "* The \"best model\" is considered the one which had the highest performance for the given parameters."
   ]
  },
  {
   "cell_type": "code",
   "execution_count": 23,
   "metadata": {},
   "outputs": [],
   "source": [
    "from pyspark.ml.regression import RandomForestRegressor\n",
    "from pyspark.ml.tuning import ParamGridBuilder\n",
    "from pyspark.ml.tuning import CrossValidator\n",
    "from pyspark.ml.evaluation import RegressionEvaluator"
   ]
  },
  {
   "cell_type": "code",
   "execution_count": 24,
   "metadata": {},
   "outputs": [],
   "source": [
    "from pyspark.ml.tuning import ParamGridBuilder\n",
    "\n",
    "param_grid = ParamGridBuilder().\\\n",
    "    addGrid(regressor.maxDepth, [2, 20]).\\\n",
    "    addGrid(regressor.maxBins, [40, 300]).\\\n",
    "    addGrid(regressor.minInfoGain, [0.0, 0.05]).\\\n",
    "    addGrid(regressor.numTrees, [1, 10]).\\\n",
    "    build()"
   ]
  },
  {
   "cell_type": "code",
   "execution_count": null,
   "metadata": {},
   "outputs": [],
   "source": [
    "# param_grid = (ParamGridBuilder()\n",
    "#               .addGrid(regressor.maxDepth, [2, 20])\n",
    "#               .addGrid(regressor.maxBins, [40, 300])\n",
    "#               .addGrid(regressor.minInfoGain, [0.0, 0.05])\n",
    "#               .addGrid(regressor.numTrees, [1, 10])\n",
    "#             .build())"
   ]
  },
  {
   "cell_type": "code",
   "execution_count": null,
   "metadata": {},
   "outputs": [],
   "source": [
    "#  from pyspark.ml.evaluation import RegressionEvaluator\n",
    "#  evaluator = RegressionEvaluator(metricName=\"rmse\", predictionCol=\"prediction\", labelCol=\"shares\")"
   ]
  },
  {
   "cell_type": "markdown",
   "metadata": {},
   "source": [
    "## 1st way: TrainValidationSplit"
   ]
  },
  {
   "cell_type": "markdown",
   "metadata": {},
   "source": [
    "* For each model (set of hyperparameters) we will also perform a testing and evaluation, in order to find the best one.\n",
    "\n",
    "* So we use `TrainValidationSplit`, which will use 90% of the training dataset for training and 10% for evaluation."
   ]
  },
  {
   "cell_type": "code",
   "execution_count": 26,
   "metadata": {},
   "outputs": [],
   "source": [
    "from pyspark.ml.tuning import TrainValidationSplit\n",
    "\n",
    "# And we'll also do validation through training, again with a 90-10 ratio.\n",
    "validator = TrainValidationSplit().\\\n",
    "    setEstimator(pipeline).\\\n",
    "    setEvaluator(evaluator).\\\n",
    "    setEstimatorParamMaps(param_grid).\\\n",
    "    setTrainRatio(0.9)"
   ]
  },
  {
   "cell_type": "markdown",
   "metadata": {},
   "source": [
    "* We create a model by fitting with the training data.\n",
    "\n",
    "* To find the model that performed best in our parameter grid, we use the `bestModel` attribute of the model.\n",
    "\n",
    "* We can also get the whole information for the hyperparameter values that were found for the best model.\n",
    "\n",
    "* Remember that we have run a pipeline; the pipeline had two stages, a `VectorAssembler` and a `DecisionTreeRegressor`.\n",
    "\n",
    "* Therefore we'll extract the last stage of the pipeline via the `extractParamMap` function, to get the hyperparameters and their values."
   ]
  },
  {
   "cell_type": "code",
   "execution_count": 29,
   "metadata": {},
   "outputs": [],
   "source": [
    "validator_model = validator.fit(training_data)\n",
    "best_model = validator_model.bestModel\n",
    "params = best_model.stages[-1].extractParamMap()"
   ]
  },
  {
   "cell_type": "code",
   "execution_count": 30,
   "metadata": {},
   "outputs": [
    {
     "name": "stdout",
     "output_type": "stream",
     "text": [
      "cacheNodeIds: False\n",
      "checkpointInterval: 10\n",
      "featureSubsetStrategy: auto\n",
      "featuresCol: features\n",
      "impurity: variance\n",
      "labelCol: shares\n",
      "maxBins: 40\n",
      "maxDepth: 2\n",
      "maxMemoryInMB: 256\n",
      "minInfoGain: 0.0\n",
      "minInstancesPerNode: 1\n",
      "numTrees: 10\n",
      "predictionCol: prediction\n",
      "seed: -7358761183697819999\n",
      "subsamplingRate: 1.0\n"
     ]
    }
   ],
   "source": [
    "for param, value in params.items():\n",
    "        print(f'{param.name}: {value}')"
   ]
  },
  {
   "cell_type": "markdown",
   "metadata": {},
   "source": [
    "* So, regarding the values of the hyperparameters we chose to examine we saw that:\n",
    "    \n",
    "| Hyperparameter | best value | possible values |\n",
    "|----------------|-------|--------|\n",
    "| maxDepth |  2 |  [2, 20] | \n",
    "| maxBins |  40 |  [40, 300] | \n",
    "| minInfoGain |  0.0 | [0.0, 0.05] | \n",
    "| numTrees |  10 |  [1, 10] | "
   ]
  },
  {
   "cell_type": "markdown",
   "metadata": {},
   "source": [
    "## 2nd way: k-fold validation (k=5)"
   ]
  },
  {
   "cell_type": "markdown",
   "metadata": {},
   "source": [
    "`5-fold cross validation`: \\\n",
    "It randomly divides the data into 5 groups (aka folds) of approximately equal size. The first fold is treated as a test set and the statistical method is fit on the remaining data. \n",
    "\n",
    "The root mean square error (RMSE) is then computed on the observations in the held-out fold. This procedure is repeated five times. The 5-fold CV estimate is computed by averaging the RMSE estimates."
   ]
  },
  {
   "cell_type": "markdown",
   "metadata": {},
   "source": [
    "<font size=\"4\"><b><ins>Note</ins>:</b> For practice purposes we will implement CrossValidation without using the pipeline</font>"
   ]
  },
  {
   "cell_type": "code",
   "execution_count": 39,
   "metadata": {},
   "outputs": [],
   "source": [
    "assembler = VectorAssembler(inputCols=[ x for x in online_data.columns[:-1] ],  outputCol='features')\n",
    "\n",
    "data_final = assembler.transform(online_data)"
   ]
  },
  {
   "cell_type": "code",
   "execution_count": 40,
   "metadata": {},
   "outputs": [
    {
     "data": {
      "text/plain": [
       "DataFrame[n_tokens_title: double, n_tokens_content: double, n_unique_tokens: double, n_non_stop_words: double, n_non_stop_unique_tokens: double, num_hrefs: double, num_self_hrefs: double, num_imgs: double, num_videos: double, average_token_length: double, num_keywords: double, data_channel_is_lifestyle: double, data_channel_is_entertainment: double, data_channel_is_bus: double, data_channel_is_socmed: double, data_channel_is_tech: double, data_channel_is_world: double, kw_min_min: double, kw_max_min: double, kw_avg_min: double, kw_min_max: double, kw_max_max: double, kw_avg_max: double, kw_min_avg: double, kw_max_avg: double, kw_avg_avg: double, self_reference_min_shares: double, self_reference_max_shares: double, self_reference_avg_sharess: double, weekday_is_monday: double, weekday_is_tuesday: double, weekday_is_wednesday: double, weekday_is_thursday: double, weekday_is_friday: double, weekday_is_saturday: double, weekday_is_sunday: double, is_weekend: double, LDA_00: double, LDA_01: double, LDA_02: double, LDA_03: double, LDA_04: double, global_subjectivity: double, global_sentiment_polarity: double, global_rate_positive_words: double, global_rate_negative_words: double, rate_positive_words: double, rate_negative_words: double, avg_positive_polarity: double, min_positive_polarity: double, max_positive_polarity: double, avg_negative_polarity: double, min_negative_polarity: double, max_negative_polarity: double, title_subjectivity: double, title_sentiment_polarity: double, abs_title_subjectivity: double, abs_title_sentiment_polarity: double, shares: double, features: vector]"
      ]
     },
     "execution_count": 40,
     "metadata": {},
     "output_type": "execute_result"
    }
   ],
   "source": [
    "data_final.cache()"
   ]
  },
  {
   "cell_type": "code",
   "execution_count": 41,
   "metadata": {},
   "outputs": [],
   "source": [
    "(training_data, test_data) = data_final.randomSplit([0.7, 0.3])"
   ]
  },
  {
   "cell_type": "code",
   "execution_count": 42,
   "metadata": {},
   "outputs": [],
   "source": [
    "regressor = RandomForestRegressor(labelCol=\"shares\", featuresCol=\"features\")\n",
    "\n",
    "from pyspark.ml.evaluation import RegressionEvaluator\n",
    "evaluator = RegressionEvaluator(metricName=\"rmse\", predictionCol=\"prediction\", labelCol=\"shares\")"
   ]
  },
  {
   "cell_type": "code",
   "execution_count": 43,
   "metadata": {},
   "outputs": [],
   "source": [
    "cv24 = CrossValidator(estimator = regressor,\n",
    "                      estimatorParamMaps = param_grid,\n",
    "                      evaluator = evaluator,\n",
    "                      numFolds = 5)"
   ]
  },
  {
   "cell_type": "code",
   "execution_count": 44,
   "metadata": {},
   "outputs": [],
   "source": [
    "cv24_model = cv24.fit(training_data)"
   ]
  },
  {
   "cell_type": "code",
   "execution_count": 46,
   "metadata": {},
   "outputs": [
    {
     "name": "stdout",
     "output_type": "stream",
     "text": [
      "cacheNodeIds: False\n",
      "checkpointInterval: 10\n",
      "featureSubsetStrategy: auto\n",
      "featuresCol: features\n",
      "impurity: variance\n",
      "labelCol: shares\n",
      "maxBins: 40\n",
      "maxDepth: 2\n",
      "maxMemoryInMB: 256\n",
      "minInfoGain: 0.0\n",
      "minInstancesPerNode: 1\n",
      "numTrees: 10\n",
      "predictionCol: prediction\n",
      "seed: -7358761183697819999\n",
      "subsamplingRate: 1.0\n"
     ]
    }
   ],
   "source": [
    "best_model24 = cv24_model.bestModel\n",
    "\n",
    "# params24 = best_model24.stages[-1].extractParamMap()\n",
    "params24 = best_model24.extractParamMap()\n",
    "\n",
    "for param, value in params24.items():\n",
    "        print(f'{param.name}: {value}')"
   ]
  },
  {
   "cell_type": "code",
   "execution_count": 47,
   "metadata": {},
   "outputs": [
    {
     "name": "stdout",
     "output_type": "stream",
     "text": [
      "maxDepth -  2\n",
      "maxDepth -  40\n",
      "maxDepth -  0.0\n",
      "numTrees -  10\n"
     ]
    }
   ],
   "source": [
    "print('maxDepth - ', best_model24.getOrDefault('maxDepth'))\n",
    "print('maxDepth - ', best_model24.getOrDefault('maxBins'))\n",
    "print('maxDepth - ', best_model24.getOrDefault('minInfoGain'))\n",
    "print('numTrees - ', best_model24.getNumTrees)"
   ]
  },
  {
   "cell_type": "markdown",
   "metadata": {},
   "source": [
    "* So, regarding the values of the hyperparameters we chose to examine we saw that:\n",
    "    \n",
    "| Hyperparameter | best value | possible values |\n",
    "|----------------|-------|--------|\n",
    "| maxDepth |  2 |  [2, 20] | \n",
    "| maxBins |  40 |  [40, 300] | \n",
    "| minInfoGain |  0.0 | [0.0, 0.05] | \n",
    "| numTrees |  10 |  [1, 10] | \n",
    "\n",
    "\n",
    "<font size=\"4\"><b><ins>Comment</ins>:</b> The results are the same produced with the TrainValidationSplit method.</font>"
   ]
  },
  {
   "cell_type": "markdown",
   "metadata": {},
   "source": [
    "## Model evaluation after tuning with the best hyperparameters\n",
    "\n",
    "We will examine how the model with the selected best hyperameters perfoms in the test data."
   ]
  },
  {
   "cell_type": "markdown",
   "metadata": {},
   "source": [
    "## => 1st way: Direct use of the best model"
   ]
  },
  {
   "cell_type": "code",
   "execution_count": 48,
   "metadata": {},
   "outputs": [],
   "source": [
    "# evaluator = RegressionEvaluator(metricName=\"rmse\", predictionCol=\"prediction\", labelCol=\"shares\")\n",
    "\n",
    "predictions33 = best_model.transform(test_data)\n",
    "rmse33 = evaluator.evaluate(predictions33)"
   ]
  },
  {
   "cell_type": "markdown",
   "metadata": {},
   "source": [
    "## => 2nd way: Tune manually the hyperparameters of the model"
   ]
  },
  {
   "cell_type": "code",
   "execution_count": 53,
   "metadata": {},
   "outputs": [],
   "source": [
    "assembler2 = VectorAssembler(inputCols=[ x for x in online_data.columns[:-1] ], outputCol='features')\n",
    "regressor2 = RandomForestRegressor(labelCol=\"shares\",featuresCol=\"features\",maxDepth=2,maxBins=40,minInfoGain=0.0, numTrees=10)\n",
    "pipeline2 = Pipeline().setStages([assembler2, regressor2])\n",
    "\n",
    "model2 = pipeline2.fit(training_data)\n",
    "predictions2 = model2.transform(test_data)   "
   ]
  },
  {
   "cell_type": "code",
   "execution_count": 54,
   "metadata": {},
   "outputs": [
    {
     "name": "stdout",
     "output_type": "stream",
     "text": [
      "RMSE = 10321.3\n"
     ]
    }
   ],
   "source": [
    "evaluator = RegressionEvaluator(metricName=\"rmse\", predictionCol=\"prediction\", labelCol=\"shares\")\n",
    "rmse22 = evaluator.evaluate(predictions2)\n",
    "print(\"RMSE = %g\" % rmse22)"
   ]
  },
  {
   "cell_type": "markdown",
   "metadata": {},
   "source": [
    "# EVALUATION\n",
    "In order to see how accurately the model predicts the response we used the Root Mean Squared Error (RMSE), which measures the average prediction error made by the model in predicting the outcome for an observation. That is, the average difference between the observed values and the model’s predicted values.\n"
   ]
  },
  {
   "cell_type": "markdown",
   "metadata": {},
   "source": [
    "* Lower values of RMSE indicate better fit, as it results in small deviations between the predicted and the actual values. \n",
    "\n",
    "* RMSE has the same units as the dependent variable while MSE has squared units. That means that there is no absolute “good” value of RMSE, however it can be defined based on the dependent variable. \n",
    "\n",
    "* RMSE is quite similar to the standard deviation (SD). Instead of measuring how much the responses vary from the mean, it uses essentially the same formula to measure how much the responses vary from the model's predictions. \n",
    "\n",
    "* A good model should, on average, have better predictions than the naïve estimate of the mean for all predictions. Thus, the RMSE should reduce the randomness better than the SD. \n",
    "So, by comparing the MSE to the sample variance of the responses we can see how much more variation we have explained with our model. "
   ]
  },
  {
   "cell_type": "markdown",
   "metadata": {},
   "source": [
    "# Summary and Descriptive Statistics of the target variable\n",
    "\n",
    "For numerical columns, knowing the descriptive summary statistics can help a lot in understanding the distribution of your data. \n",
    "\n",
    "We will use the describe function, which returns a DataFrame containing information such as number of non-null entries (count), mean, standard deviation, and minimum and maximum value for each numerical column."
   ]
  },
  {
   "cell_type": "code",
   "execution_count": 55,
   "metadata": {},
   "outputs": [
    {
     "data": {
      "text/html": [
       "<div>\n",
       "<style scoped>\n",
       "    .dataframe tbody tr th:only-of-type {\n",
       "        vertical-align: middle;\n",
       "    }\n",
       "\n",
       "    .dataframe tbody tr th {\n",
       "        vertical-align: top;\n",
       "    }\n",
       "\n",
       "    .dataframe thead th {\n",
       "        text-align: right;\n",
       "    }\n",
       "</style>\n",
       "<table border=\"1\" class=\"dataframe\">\n",
       "  <thead>\n",
       "    <tr style=\"text-align: right;\">\n",
       "      <th></th>\n",
       "      <th>summary</th>\n",
       "      <th>shares</th>\n",
       "    </tr>\n",
       "  </thead>\n",
       "  <tbody>\n",
       "    <tr>\n",
       "      <th>0</th>\n",
       "      <td>count</td>\n",
       "      <td>39644</td>\n",
       "    </tr>\n",
       "    <tr>\n",
       "      <th>1</th>\n",
       "      <td>mean</td>\n",
       "      <td>3395.3801836343455</td>\n",
       "    </tr>\n",
       "    <tr>\n",
       "      <th>2</th>\n",
       "      <td>stddev</td>\n",
       "      <td>11626.950748651709</td>\n",
       "    </tr>\n",
       "    <tr>\n",
       "      <th>3</th>\n",
       "      <td>min</td>\n",
       "      <td>1.0</td>\n",
       "    </tr>\n",
       "    <tr>\n",
       "      <th>4</th>\n",
       "      <td>max</td>\n",
       "      <td>843300.0</td>\n",
       "    </tr>\n",
       "  </tbody>\n",
       "</table>\n",
       "</div>"
      ],
      "text/plain": [
       "  summary              shares\n",
       "0   count               39644\n",
       "1    mean  3395.3801836343455\n",
       "2  stddev  11626.950748651709\n",
       "3     min                 1.0\n",
       "4     max            843300.0"
      ]
     },
     "execution_count": 55,
     "metadata": {},
     "output_type": "execute_result"
    }
   ],
   "source": [
    "online_data.describe('shares').toPandas()"
   ]
  },
  {
   "cell_type": "markdown",
   "metadata": {},
   "source": [
    "* After completing our analysis, we stop the Spark Session."
   ]
  },
  {
   "cell_type": "code",
   "execution_count": 59,
   "metadata": {},
   "outputs": [],
   "source": [
    "# In the end, stop the session\n",
    "spark.stop()"
   ]
  },
  {
   "cell_type": "code",
   "execution_count": null,
   "metadata": {},
   "outputs": [],
   "source": [
    "# xwris hyperparameters: RMSE = 10475.7\n",
    "# me hyperparameters: RMSE = 10321.3\n",
    "### RMSE = 10321.3  | stddev = 11626 .9    |    range = (1, 843300)"
   ]
  },
  {
   "cell_type": "markdown",
   "metadata": {},
   "source": [
    "# <center><ins>Conclusion</ins></center>"
   ]
  },
  {
   "cell_type": "markdown",
   "metadata": {},
   "source": [
    "* First of all we observed that after using the optimal hyperparameters proposed by our research the value of RMSE was smaller.\n",
    "\n",
    "\n",
    "* Based on range of the number of shares we may characterize the RMSE as small, and thus identify our predictions as \"good\". \n",
    "\n",
    "\n",
    "* <ins>Note</ins>: Range is sometimes misleading because we could have a skewed distribution or outliers, so we will also use the standard deviation, which takes care of this. \n",
    "\n",
    "\n",
    "* The RMSE is smaller that the standard deviation, which means that we have explained more variation with our model and thus this is another indication that our predictions are worthwhile."
   ]
  }
 ],
 "metadata": {
  "kernelspec": {
   "display_name": "Python 3",
   "language": "python",
   "name": "python3"
  },
  "language_info": {
   "codemirror_mode": {
    "name": "ipython",
    "version": 3
   },
   "file_extension": ".py",
   "mimetype": "text/x-python",
   "name": "python",
   "nbconvert_exporter": "python",
   "pygments_lexer": "ipython3",
   "version": "3.8.3"
  }
 },
 "nbformat": 4,
 "nbformat_minor": 4
}
